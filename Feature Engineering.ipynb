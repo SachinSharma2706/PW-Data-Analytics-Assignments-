{
  "nbformat": 4,
  "nbformat_minor": 0,
  "metadata": {
    "colab": {
      "provenance": []
    },
    "kernelspec": {
      "name": "python3",
      "display_name": "Python 3"
    },
    "language_info": {
      "name": "python"
    }
  },
  "cells": [
    {
      "cell_type": "markdown",
      "source": [
        "## 1. What is a parameter?\n",
        "A **parameter** in machine learning refers to a variable that the model learns from the training data. These parameters help define the model's structure and behavior. Examples include weights in neural networks and coefficients in linear regression.\n"
      ],
      "metadata": {
        "id": "DHECbGvIxy59"
      }
    },
    {
      "cell_type": "markdown",
      "source": [
        "## 2. What is correlation?\n",
        "**Correlation** measures the relationship between two variables. It determines how one variable changes concerning another. The correlation coefficient (r) ranges from -1 to 1:\n",
        "- **1**: Perfect positive correlation\n",
        "- **0**: No correlation\n",
        "- **-1**: Perfect negative correlation"
      ],
      "metadata": {
        "id": "H8NOmDofx2om"
      }
    },
    {
      "cell_type": "markdown",
      "source": [
        "## 3. What does negative correlation mean?\n",
        "A **negative correlation** means that as one variable increases, the other decreases. For example, in a study of exercise vs. body fat percentage, an increase in exercise might lead to a decrease in body fat, indicating a negative correlation.\n"
      ],
      "metadata": {
        "id": "S_1i4LbWx3aD"
      }
    },
    {
      "cell_type": "markdown",
      "source": [
        "## 4. Define Machine Learning. What are the main components in Machine Learning?\n",
        "**Machine Learning (ML)** is a field of AI that enables computers to learn from data without being explicitly programmed.\n",
        "\n",
        "### Main components in ML:\n",
        "1. **Data** – Input data used for training and testing.\n",
        "2. **Features** – Important characteristics extracted from data.\n",
        "3. **Model** – A mathematical function that learns from the data.\n",
        "4. **Loss Function** – Measures how well the model performs.\n",
        "5. **Optimization Algorithm** – Adjusts parameters to minimize loss.\n",
        "6. **Training Process** – Model learns patterns from data.\n",
        "7. **Evaluation** – Testing how well the model generalizes to unseen data."
      ],
      "metadata": {
        "id": "bT7eATpnyJjT"
      }
    },
    {
      "cell_type": "markdown",
      "source": [
        "## 5. How does loss value help in determining whether the model is good or not?\n",
        "The **loss value** quantifies the difference between the model’s predictions and actual values. A lower loss value indicates better model performance. Common loss functions include:\n",
        "- **Mean Squared Error (MSE)** – Used in regression problems.\n",
        "- **Cross-Entropy Loss** – Used in classification problems."
      ],
      "metadata": {
        "id": "wzjFO8RKyLur"
      }
    },
    {
      "cell_type": "markdown",
      "source": [
        "## 6. What are continuous and categorical variables?\n",
        "- **Continuous variables**: Numeric values with an infinite range (e.g., height, weight, temperature).\n",
        "- **Categorical variables**: Discrete values representing categories or labels (e.g., colors, gender, city names).\n"
      ],
      "metadata": {
        "id": "9mpBrCPuyNeT"
      }
    },
    {
      "cell_type": "markdown",
      "source": [
        "## 7. How do we handle categorical variables in Machine Learning? What are the common techniques?\n",
        "Handling categorical variables is crucial for ML models. Common techniques include:\n",
        "1. **Label Encoding** – Assigns a unique number to each category.\n",
        "2. **One-Hot Encoding** – Creates binary columns for each category.\n",
        "3. **Ordinal Encoding** – Assigns ordered values to categorical data.\n",
        "4. **Frequency Encoding** – Replaces categories with their occurrence count.\n",
        "5. **Target Encoding** – Uses the mean of the target variable per category."
      ],
      "metadata": {
        "id": "cK3sTQczyP6L"
      }
    },
    {
      "cell_type": "markdown",
      "source": [
        "## 8. What do you mean by training and testing a dataset?\n",
        "- **Training dataset**: Used to train the model.\n",
        "- **Testing dataset**: Used to evaluate model performance.\n",
        "Splitting data into training and testing sets prevents overfitting and ensures generalization.\n"
      ],
      "metadata": {
        "id": "LgKoAu8hyR0T"
      }
    },
    {
      "cell_type": "markdown",
      "source": [
        "## 9. What is sklearn.preprocessing?\n",
        "`sklearn.preprocessing` is a module in Scikit-learn that provides tools for feature scaling, normalization, and encoding categorical variables. Examples:\n",
        "```python\n",
        "from sklearn.preprocessing import StandardScaler, OneHotEncoder"
      ],
      "metadata": {
        "id": "1fgUdn1CyT8L"
      }
    },
    {
      "cell_type": "markdown",
      "source": [
        "## 10. What is a Test set?\n",
        "The test set is a subset of data used to evaluate the trained model. It is separate from the training data to measure how well the model generalizes to unseen data."
      ],
      "metadata": {
        "id": "A2OUJlRWyWr7"
      }
    },
    {
      "cell_type": "code",
      "source": [
        "from sklearn.model_selection import train_test_split\n",
        "\n",
        "# Sample dataset (features and labels)\n",
        "X = [[1], [2], [3], [4], [5]]  # Features\n",
        "y = [10, 20, 30, 40, 50]       # Target values\n",
        "\n",
        "# Splitting data into 80% training and 20% testing\n",
        "X_train, X_test, y_train, y_test = train_test_split(X, y, test_size=0.2, random_state=42)\n",
        "\n",
        "# Print the results\n",
        "print(\"X_train:\", X_train)\n",
        "print(\"X_test:\", X_test)\n",
        "print(\"y_train:\", y_train)\n",
        "print(\"y_test:\", y_test)\n"
      ],
      "metadata": {
        "colab": {
          "base_uri": "https://localhost:8080/"
        },
        "id": "_49VcBb5yfcM",
        "outputId": "2edbeb39-720b-4fda-95c5-af2b08df7f55"
      },
      "execution_count": 3,
      "outputs": [
        {
          "output_type": "stream",
          "name": "stdout",
          "text": [
            "X_train: [[5], [3], [1], [4]]\n",
            "X_test: [[2]]\n",
            "y_train: [50, 30, 10, 40]\n",
            "y_test: [20]\n"
          ]
        }
      ]
    },
    {
      "cell_type": "markdown",
      "source": [
        "## Steps to Approach a Machine Learning Problem\n",
        "\n",
        "- **Understand the problem** – Define the objective and goals.\n",
        "- **Collect & preprocess data** – Handle missing values, encoding, and normalization.\n",
        "- **Feature engineering** – Select and transform features.\n",
        "- **Choose a model** – Select the appropriate algorithm.\n",
        "- **Train the model** – Fit the model to training data.\n",
        "- **Evaluate performance** – Use metrics like accuracy, precision, recall, etc.\n",
        "- **Optimize the model** – Fine-tune hyperparameters.\n",
        "- **Deploy the model** – Integrate into a production environment.\n"
      ],
      "metadata": {
        "id": "dSkE6Gtey75z"
      }
    },
    {
      "cell_type": "markdown",
      "source": [
        "## 11. Why do we have to perform EDA before fitting a model to the data?\n",
        "**Exploratory Data Analysis (EDA)** helps us understand the dataset before training a model. It helps in:\n",
        "- Detecting missing values and outliers.\n",
        "- Identifying data distributions.\n",
        "- Understanding relationships between variables.\n",
        "- Selecting relevant features.\n",
        "- Choosing the right preprocessing steps."
      ],
      "metadata": {
        "id": "tPrmgOm60o0D"
      }
    },
    {
      "cell_type": "markdown",
      "source": [
        "### 12. What is correlation?\n",
        "**Correlation** measures the relationship between two variables. It shows how one variable changes with respect to another. The correlation coefficient (r) ranges from:\n",
        "- **1** → Strong positive correlation.\n",
        "- **0** → No correlation.\n",
        "- **-1** → Strong negative correlation."
      ],
      "metadata": {
        "id": "zZMG4rTk1Eqk"
      }
    },
    {
      "cell_type": "markdown",
      "source": [
        "## 13. What does negative correlation mean?\n",
        "A **negative correlation** means that as one variable increases, the other decreases.  \n",
        "**Example:** As the number of hours spent watching TV increases, physical activity decreases.\n"
      ],
      "metadata": {
        "id": "_2-BwNRm1ImT"
      }
    },
    {
      "cell_type": "markdown",
      "source": [
        "## 14. How can you find correlation between variables in Python?\n",
        "In Python, we use Pandas to calculate correlation:\n",
        "\n",
        "```python\n",
        "import pandas as pd\n",
        "\n",
        "# Sample dataset\n",
        "data = {'A': [1, 2, 3, 4, 5], 'B': [5, 4, 3, 2, 1]}\n",
        "df = pd.DataFrame(data)\n",
        "\n",
        "# Compute correlation\n",
        "print(df.corr())"
      ],
      "metadata": {
        "id": "-cDovsIH1NI7"
      }
    },
    {
      "cell_type": "markdown",
      "source": [
        "### 15. What is causation? Explain the difference between correlation and causation with an example.\n",
        "- **Causation** means that one variable **directly affects** another.\n",
        "- **Correlation** only shows that two variables are related but does not imply cause-effect.\n",
        "\n",
        "**Example:**  \n",
        "- **Correlation:** Ice cream sales and drowning incidents are correlated (both increase in summer).  \n",
        "- **Causation:** Eating more ice cream does not cause drowning. The **real cause** is summer heat.\n"
      ],
      "metadata": {
        "id": "_IGOiaCp1SAU"
      }
    },
    {
      "cell_type": "markdown",
      "source": [
        "### 16. What is an Optimizer? What are different types of optimizers? Explain each with an example.\n",
        "An **optimizer** updates the model’s parameters to minimize the loss function.\n",
        "\n",
        "#### Types of Optimizers:\n",
        "1. **Gradient Descent:** Basic optimization method.\n",
        "   ```python\n",
        "   from tensorflow.keras.optimizers import SGD\n",
        "   optimizer = SGD(learning_rate=0.01)\n",
        "2. Adam Optimizer: Adaptive learning rate\n",
        "3. RMSprop: Used for recurrent neural networks (RNNs)."
      ],
      "metadata": {
        "id": "rFZW5KhR2SnT"
      }
    },
    {
      "cell_type": "markdown",
      "source": [
        "##17. What is sklearn.linear_model?\n",
        "sklearn.linear_model is a module in Scikit-learn for implementing linear models such as:\n",
        "\n",
        "- **Linear Regression**\n",
        "- **Logistic Regression**\n",
        "- **Ridge Regression**\n",
        "- **Lasso Regression**\n"
      ],
      "metadata": {
        "id": "O-HeyMg52zr0"
      }
    },
    {
      "cell_type": "markdown",
      "source": [
        "## 18. What does model.fit() do? What arguments must be given?\n",
        "model.fit() trains the model on data.\n",
        "Arguments:\n",
        "\n",
        "X_train – Features for training.\n",
        "y_train – Target variable."
      ],
      "metadata": {
        "id": "sZ7ogHjd3DI0"
      }
    },
    {
      "cell_type": "markdown",
      "source": [
        "## 19. What does model.predict() do? What arguments must be given?\n",
        "model.predict() makes predictions based on trained data.\n",
        "Arguments:\n",
        "\n",
        "X_test – Features for making predictions."
      ],
      "metadata": {
        "id": "FiPVoF163Raj"
      }
    },
    {
      "cell_type": "markdown",
      "source": [
        "## 20. What are continuous and categorical variables?\n",
        "- Continuous Variables: Numeric values with infinite range (e.g., height, weight).\n",
        "- Categorical Variables: Discrete values representing categories (e.g., gender, city)."
      ],
      "metadata": {
        "id": "cMHM_0Ma3eZc"
      }
    },
    {
      "cell_type": "markdown",
      "source": [
        "## 21. What is feature scaling? How does it help in Machine Learning?\n",
        "Feature scaling ensures that all numerical features have similar scales, preventing one feature from dominating others."
      ],
      "metadata": {
        "id": "hKcMC3Pp3p90"
      }
    },
    {
      "cell_type": "markdown",
      "source": [
        "## 22. How do we perform scaling in Python?\n",
        "Using StandardScaler or MinMaxScaler from Scikit-learn:"
      ],
      "metadata": {
        "id": "Yg9_ozZw4NLk"
      }
    },
    {
      "cell_type": "code",
      "source": [
        "from sklearn.preprocessing import StandardScaler\n",
        "\n",
        "scaler = StandardScaler()\n",
        "X_scaled = scaler.fit_transform(X)\n"
      ],
      "metadata": {
        "id": "ddWcbhad4ZHU"
      },
      "execution_count": 4,
      "outputs": []
    },
    {
      "cell_type": "markdown",
      "source": [
        "## 23. What is sklearn.preprocessing?\n",
        "sklearn.preprocessing provides functions for:\n",
        "\n",
        "Scaling (StandardScaler, MinMaxScaler)\n",
        "Encoding categorical data (OneHotEncoder, LabelEncoder)\n",
        "Normalization (Normalizer)"
      ],
      "metadata": {
        "id": "bdTWj9oo4bBU"
      }
    },
    {
      "cell_type": "markdown",
      "source": [
        "## 24. How do we split data for model fitting (training and testing) in Python?\n",
        "Using train_test_split from Scikit-learn:"
      ],
      "metadata": {
        "id": "ie4yX9OX43JM"
      }
    },
    {
      "cell_type": "code",
      "source": [
        "from sklearn.model_selection import train_test_split\n",
        "\n",
        "X_train, X_test, y_train, y_test = train_test_split(X, y, test_size=0.2, random_state=42)\n"
      ],
      "metadata": {
        "id": "PMTvZmBw49Ks"
      },
      "execution_count": 5,
      "outputs": []
    },
    {
      "cell_type": "markdown",
      "source": [
        "## 25. Explain Data Encoding\n",
        "\n",
        "Data encoding converts categorical variables into numerical values, allowing machine learning models to process them effectively.\n",
        "\n",
        "### Types of Encoding:\n",
        "\n",
        "- **Label Encoding**: Assigns a unique number to each category. It is useful for ordinal categorical variables but may introduce unintended relationships between categories.\n",
        "\n",
        "- **One-Hot Encoding**: Creates separate binary columns for each category. It is useful for nominal categorical variables (where order doesn’t matter).\n",
        "\n",
        "### When to Use:\n",
        "- **Label Encoding**: When dealing with ordinal data (e.g., Low, Medium, High).\n",
        "- **One-Hot Encoding**: When dealing with nominal data (e.g., colors, city names).\n"
      ],
      "metadata": {
        "id": "L2hyd_3x6WL0"
      }
    },
    {
      "cell_type": "markdown",
      "source": [],
      "metadata": {
        "id": "_5CThhIw66V4"
      }
    }
  ]
}