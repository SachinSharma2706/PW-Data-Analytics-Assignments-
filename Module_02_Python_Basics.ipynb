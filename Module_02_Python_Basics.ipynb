{
 "cells": [
  {
   "cell_type": "markdown",
   "id": "d11500f1-ca5f-4571-a238-02f7e604ff8d",
   "metadata": {
    "jp-MarkdownHeadingCollapsed": true
   },
   "source": [
    "### What is Python, and why is it popular ?\n",
    "\n",
    "Python is a high-level, interpreted programming language known for its simplicity and readability. From the perspective of data analysis, it is highly valuable as Python has far better libraries than any other language.\n",
    "\n",
    "####  Key Features of Python\n",
    "\n",
    "1. **Interpreted**  \n",
    "   Python code is executed line by line, making it easier to debug and test.\n",
    "\n",
    "2. **Dynamically Typed**  \n",
    "   You don’t need to declare variable types explicitly.\n",
    "\n",
    "3. **Versatile**  \n",
    "   Python is used in various domains like web development, data science, automation, machine learning, and more.\n",
    "\n",
    "4. **Extensive Libraries**  \n",
    "   Python has a rich ecosystem of libraries and frameworks that simplify complex tasks (e.g., NumPy, Pandas, Django, etc.).\n",
    "\n"
   ]
  },
  {
   "cell_type": "markdown",
   "id": "8e2695d7-1531-47bd-8aa6-300dca802a76",
   "metadata": {
    "jp-MarkdownHeadingCollapsed": true
   },
   "source": [
    "### What is an interpreter in Python ?\n",
    "An interpreter in Python is a program that reads and executes Python code line by line. It converts the code into machine-readable instructions and runs it directly, making Python an interpreted language."
   ]
  },
  {
   "cell_type": "markdown",
   "id": "165bddd7-97ff-4417-bdca-83d013eb978e",
   "metadata": {
    "jp-MarkdownHeadingCollapsed": true
   },
   "source": [
    "### What are pre-defined keywords in Python?\n",
    "\n",
    "Pre-defined keywords in Python are reserved words that have a specific meaning and purpose in the language. They cannot be used as identifiers (e.g., variable or function names) and are used to define the syntax and structure of Python programs.\n",
    "\n",
    "Examples include:  \n",
    "`if`, `else`, `while`, `for`, `def`, `return`\n"
   ]
  },
  {
   "cell_type": "markdown",
   "id": "d64b96ee-9806-4d61-ab0e-3fb090a2c22f",
   "metadata": {},
   "source": [
    "### Can keywords be used as variable names?\n",
    "\n",
    "No, keywords cannot be used as variable names in Python. If you try to do so, it will generate a **`SyntaxError`** because keywords are reserved for specific purposes in the Python language and cannot be reassigned or redefined.\n",
    "\n",
    "#### Example:\n",
    "```python\n",
    "if = 10  # Trying to use 'if' as a variable name\n",
    "\n"
   ]
  },
  {
   "cell_type": "markdown",
   "id": "55ab6503-731b-437f-90c1-d819a037ba0b",
   "metadata": {},
   "source": [
    "### What is mutability in Python?\n",
    "\n",
    "Mutability in Python refers to the ability of an object to be changed after it is created. Mutable objects can be modified in place, whereas immutable objects cannot.\n",
    "\n",
    "#### Examples of mutable objects:\n",
    "- Lists\n",
    "- Dictionaries\n",
    "- Sets\n",
    "\n",
    "#### Examples of immutable objects:\n",
    "- Tuples\n",
    "- Strings\n",
    "- Integers\n",
    "\n"
   ]
  },
  {
   "cell_type": "markdown",
   "id": "aa1d4e07-51ae-445b-8ca6-ef3c618d5291",
   "metadata": {},
   "source": [
    "### Why are lists mutable, but tuples are immutable?\n",
    "\n",
    "Lists are mutable in Python because they are designed to be flexible and allow modification of their contents after creation. This means you can add, remove, or change elements in a list.\n",
    "\n",
    "Tuples, on the other hand, are immutable because they are intended to be fixed, unchangeable collections. Once a tuple is created, its contents cannot be modified, making it suitable for situations where you need a constant set of values.\n",
    "\n",
    "\n"
   ]
  },
  {
   "cell_type": "markdown",
   "id": "c16e6d21-9b47-4529-a148-9f6806181d4a",
   "metadata": {},
   "source": [
    "### What is the difference between “==” and “is” operators in Python?\n",
    "\n",
    "In Python, both `==` and `is` are comparison operators, but they serve different purposes:\n",
    "\n",
    "- **`==` (Equality operator)**: This checks if the values of two objects are equal.\n",
    "- **`is` (Identity operator)**: This checks if two objects refer to the same memory location (i.e., whether they are the exact same object).\n",
    "\n",
    "#### Example:\n",
    "\n",
    "```python\n",
    "a = [1, 2, 3]\n",
    "b = [1, 2, 3]\n",
    "c = a\n",
    "\n",
    "# Using '=='\n",
    "print(a == b)  # True, because the values are the same\n",
    "\n",
    "# Using 'is'\n",
    "print(a is b)  # False, because they are different objects in memory\n",
    "print(a is c)  # True, because 'a' and 'c' refer to the same object\n"
   ]
  },
  {
   "cell_type": "markdown",
   "id": "4f4fc24b-b5df-4ae1-885a-7a0707d8224f",
   "metadata": {},
   "source": [
    "### What are logical operators in Python?\n",
    "\n",
    "Logical operators in Python are used to combine conditional statements. They are used to evaluate whether multiple conditions are true or false.\n",
    "\n",
    "There are three main logical operators in Python:\n",
    "\n",
    "1. **`and`**: Returns `True` if both conditions are true.\n",
    "2. **`or`**: Returns `True` if at least one of the conditions is true.\n",
    "3. **`not`**: Returns `True` if the condition is false, and `False` if the condition is true.\n"
   ]
  },
  {
   "cell_type": "markdown",
   "id": "6104c60e-3e90-437c-9190-dd7f65828039",
   "metadata": {},
   "source": [
    "### What is type casting in Python?\n",
    "\n",
    "Type casting in Python refers to converting one data type to another. This is done to ensure that operations are performed on compatible data types. Python provides built-in functions for casting between types, such as `int()`, `float()`, `str()`, etc.\n",
    "\n",
    "There are two types of type casting:\n",
    "\n",
    "1. **Implicit Type Casting (Automatic)**: Python automatically converts a smaller data type to a larger data type.\n",
    "2. **Explicit Type Casting (Manual)**: The programmer manually converts one data type to another using casting functions.\n"
   ]
  },
  {
   "cell_type": "markdown",
   "id": "13d7bf76-9402-471e-a7a4-d6c98a4b2847",
   "metadata": {},
   "source": [
    "### What is the difference between implicit and explicit type casting?\n",
    "\n",
    "Type casting in Python can be categorized into two types: **implicit** and **explicit**.\n",
    "\n",
    "1. **Implicit Type Casting**:  \n",
    "   - Done automatically by Python.  \n",
    "   - Python converts a smaller data type to a larger data type to avoid data loss.  \n",
    "   - Example: Converting `int` to `float` during arithmetic operations.\n",
    "\n",
    "2. **Explicit Type Casting**:  \n",
    "   - Done manually by the programmer.  \n",
    "   - The programmer uses built-in functions like `int()`, `float()`, or `str()` to convert one type to another.  \n",
    "   - Useful when specific type conversion is required."
   ]
  },
  {
   "cell_type": "markdown",
   "id": "ca0b6a93-e3c8-49bc-b89a-b22c90faf403",
   "metadata": {},
   "source": [
    "### What is the purpose of conditional statements in Python?\n",
    "\n",
    "Conditional statements in Python are used to make decisions in a program. They allow the program to execute a certain block of code only if a specified condition is true. This helps in controlling the flow of the program based on different scenarios.\n",
    "\n",
    "#### Common conditional statements in Python:\n",
    "- `if`: Executes a block of code if a condition is true.\n",
    "- `elif`: Executes another block of code if the previous condition(s) are false and the current condition is true.\n",
    "- `else`: Executes a block of code if all the previous conditions are false.\n",
    "\n",
    "#### Example:\n",
    "\n",
    "```python\n",
    "x = 10\n",
    "\n",
    "# Conditional statement\n",
    "if x > 5:\n",
    "    print(\"x is greater than 5\")\n",
    "elif x == 5:\n",
    "    print(\"x is equal to 5\")\n",
    "else:\n",
    "    print(\"x is less than 5\")\n"
   ]
  },
  {
   "cell_type": "markdown",
   "id": "64c49ee4-46f6-498a-91f0-1c88cfa4c215",
   "metadata": {},
   "source": [
    "### How does the elif statement work?\n",
    "\n",
    "The `elif` statement in Python stands for \"else if\" and is used to check multiple conditions in a program. It allows the program to test additional conditions if the previous `if` or `elif` condition was false. Only the first condition that evaluates to `True` will be executed, and the remaining conditions are skipped.\n",
    "\n",
    "#### Example:\n",
    "\n",
    "```python\n",
    "x = 15\n",
    "\n",
    "if x < 10:\n",
    "    print(\"x is less than 10\")\n",
    "elif x < 20:\n",
    "    print(\"x is between 10 and 20\")\n",
    "elif x < 30:\n",
    "    print(\"x is between 20 and 30\")\n",
    "else:\n",
    "    print(\"x is 30 or greater\")\n"
   ]
  },
  {
   "cell_type": "markdown",
   "id": "3196d153-721a-4859-8870-74b7c25f18db",
   "metadata": {},
   "source": [
    "### What is the difference between for and while loops?\n",
    "\n",
    "In Python, both `for` and `while` loops are used to repeat a block of code multiple times, but they are suited for different use cases:\n",
    "\n",
    "1. **`for` Loop**:  \n",
    "   - Used when the number of iterations is known or when iterating over a sequence (like a list, tuple, string, or range).  \n",
    "   - It automatically handles the iteration.\n",
    "\n",
    "   **Example**:\n",
    "   ```python\n",
    "   for i in range(5):\n",
    "       print(i)  # Prints numbers 0 to 4\n"
   ]
  },
  {
   "cell_type": "markdown",
   "id": "aa251a7e-c964-4248-a9ee-d6fbde66efa0",
   "metadata": {},
   "source": [
    "### Describe a scenario where a while loop is more suitable than a for loop?\n",
    "\n",
    "A `while` loop is more suitable in situations where the number of iterations is not fixed and depends on a condition being met. This makes it ideal for cases where the loop must continue until a specific state or condition is achieved.\n"
   ]
  },
  {
   "cell_type": "markdown",
   "id": "b6064c3e-bc14-4c77-9947-3f6cf06c9749",
   "metadata": {},
   "source": [
    "# Practical Questions"
   ]
  },
  {
   "cell_type": "markdown",
   "id": "9be06627-016b-43c5-ba20-e5c0202d857f",
   "metadata": {},
   "source": [
    "## Write a Python program to print \"Hello, World!\""
   ]
  },
  {
   "cell_type": "code",
   "execution_count": 1,
   "id": "a98d4709-99e6-4054-94bd-4e8bf0f6947b",
   "metadata": {},
   "outputs": [
    {
     "name": "stdout",
     "output_type": "stream",
     "text": [
      "Hello, World!\n"
     ]
    }
   ],
   "source": [
    "print(\"Hello, World!\")"
   ]
  },
  {
   "cell_type": "markdown",
   "id": "8bc60b5d-25d2-467d-9072-aabec4fe63d4",
   "metadata": {},
   "source": [
    "## Write a Python program that displays your name and age"
   ]
  },
  {
   "cell_type": "code",
   "execution_count": 3,
   "id": "affb2b3c-f082-434d-b3a0-a3db76ccaa16",
   "metadata": {},
   "outputs": [
    {
     "name": "stdout",
     "output_type": "stream",
     "text": [
      "My name is Sachin Sharma and I am 26 years old.\n"
     ]
    }
   ],
   "source": [
    "name = \"Sachin Sharma\"\n",
    "age = 26  # Replace with your age\n",
    "print(f\"My name is {name} and I am {age} years old.\")"
   ]
  },
  {
   "cell_type": "markdown",
   "id": "e09db849-4fe1-47e7-b939-af2329d81b69",
   "metadata": {},
   "source": [
    "## Write code to print all the pre-defined keywords in Python using the keyword library0"
   ]
  },
  {
   "cell_type": "code",
   "execution_count": 6,
   "id": "1c7cd8f1-c763-4d84-b04b-021ab340f6cf",
   "metadata": {},
   "outputs": [
    {
     "name": "stdout",
     "output_type": "stream",
     "text": [
      "\n",
      "Here is a list of the Python keywords.  Enter any keyword to get more help.\n",
      "\n",
      "False               class               from                or\n",
      "None                continue            global              pass\n",
      "True                def                 if                  raise\n",
      "and                 del                 import              return\n",
      "as                  elif                in                  try\n",
      "assert              else                is                  while\n",
      "async               except              lambda              with\n",
      "await               finally             nonlocal            yield\n",
      "break               for                 not                 \n",
      "\n"
     ]
    }
   ],
   "source": [
    "help(\"keywords\")"
   ]
  },
  {
   "cell_type": "markdown",
   "id": "6cbd344e-63bc-4d2c-8644-657c1975bc5f",
   "metadata": {},
   "source": [
    "## Write a program that checks if a given word is a Python keyword0"
   ]
  },
  {
   "cell_type": "code",
   "execution_count": 10,
   "id": "5370fba0-808e-4643-9986-2e38a55b6dc2",
   "metadata": {},
   "outputs": [
    {
     "name": "stdout",
     "output_type": "stream",
     "text": [
      "Enter a word:  if\n"
     ]
    },
    {
     "name": "stdout",
     "output_type": "stream",
     "text": [
      "'if' is a Python keyword.\n"
     ]
    }
   ],
   "source": [
    "import keyword\n",
    "word = input(\"Enter a word: \")\n",
    "if keyword.iskeyword(word):\n",
    "    print(f\"'{word}' is a Python keyword.\")\n",
    "else:\n",
    "    print(f\"'{word}' is not a Python keyword.\")"
   ]
  },
  {
   "cell_type": "markdown",
   "id": "82f36814-7a19-46f9-be13-738b25225071",
   "metadata": {},
   "source": [
    "## Create a list and tuple in Python, and demonstrate how attempting to change an element works differently for each"
   ]
  },
  {
   "cell_type": "code",
   "execution_count": 2,
   "id": "8564b8b4-ccfe-4c13-95cc-5465068895f9",
   "metadata": {},
   "outputs": [
    {
     "name": "stdout",
     "output_type": "stream",
     "text": [
      "Modified list: [10, 2, 3]\n",
      "Error when trying to modify a tuple: 'tuple' object does not support item assignment\n"
     ]
    }
   ],
   "source": [
    "\n",
    "my_list = [1, 2, 3]\n",
    "my_tuple = (1, 2, 3)\n",
    "\n",
    "my_list[0] = 10\n",
    "print(\"Modified list:\", my_list)  \n",
    "\n",
    "\n",
    "try:\n",
    "    my_tuple[0] = 10\n",
    "except TypeError as e:\n",
    "    print(\"Error when trying to modify a tuple:\", e)\n"
   ]
  },
  {
   "cell_type": "markdown",
   "id": "93514e77-9cbb-4de5-8ad3-ad9c77472e64",
   "metadata": {},
   "source": [
    "## Write a function to demonstrate the behavior of mutable and immutable arguments?"
   ]
  },
  {
   "cell_type": "code",
   "execution_count": 3,
   "id": "f9d468a0-056e-4cf6-9db4-d34e34bbcf68",
   "metadata": {},
   "outputs": [
    {
     "name": "stdout",
     "output_type": "stream",
     "text": [
      "Inside function, immutable value: 11\n",
      "Inside function, mutable value: [1, 2, 3, 4]\n",
      "Outside function, immutable value: 10\n",
      "Outside function, mutable value: [1, 2, 3, 4]\n"
     ]
    }
   ],
   "source": [
    "def modify_values(immutable, mutable):\n",
    "    immutable += 1\n",
    "    print(f\"Inside function, immutable value: {immutable}\")\n",
    "    mutable.append(4)\n",
    "    print(f\"Inside function, mutable value: {mutable}\")\n",
    "\n",
    "immutable_arg = 10\n",
    "mutable_arg = [1, 2, 3]\n",
    "\n",
    "modify_values(immutable_arg, mutable_arg)\n",
    "\n",
    "print(f\"Outside function, immutable value: {immutable_arg}\")\n",
    "print(f\"Outside function, mutable value: {mutable_arg}\")"
   ]
  },
  {
   "cell_type": "markdown",
   "id": "0ed60b10-00c5-40e1-baea-b353d96a0dd7",
   "metadata": {},
   "source": [
    "## Write a program to demonstrate the use of logical operators"
   ]
  },
  {
   "cell_type": "code",
   "execution_count": 4,
   "id": "d1b44d71-c5af-4c94-94d5-116813f6e7fe",
   "metadata": {},
   "outputs": [
    {
     "name": "stdout",
     "output_type": "stream",
     "text": [
      "Both conditions are True (AND)\n",
      "At least one condition is True (OR)\n",
      "Condition is False, so NOT makes it True\n"
     ]
    }
   ],
   "source": [
    "a = 10\n",
    "b = 5\n",
    "c = 15\n",
    "\n",
    "if a > b and c > a:\n",
    "    print(\"Both conditions are True (AND)\")\n",
    "\n",
    "\n",
    "if a > c or b < a:\n",
    "    print(\"At least one condition is True (OR)\")\n",
    "\n",
    "if not (a < b):\n",
    "    print(\"Condition is False, so NOT makes it True\")\n"
   ]
  },
  {
   "cell_type": "markdown",
   "id": "a807cfc9-419a-4119-8117-04bacaec8aaa",
   "metadata": {},
   "source": [
    "## Write a Python program to convert user input from string to integer, float, and boolean types"
   ]
  },
  {
   "cell_type": "code",
   "execution_count": 5,
   "id": "05fa9709-218d-401a-accf-68e48dfd4d8a",
   "metadata": {},
   "outputs": [
    {
     "name": "stdin",
     "output_type": "stream",
     "text": [
      "Enter a value:  2\n"
     ]
    },
    {
     "name": "stdout",
     "output_type": "stream",
     "text": [
      "Converted to integer: 2\n",
      "Converted to float: 2.0\n",
      "Converted to boolean: True\n"
     ]
    }
   ],
   "source": [
    "user_input = input(\"Enter a value: \")\n",
    "\n",
    "try:\n",
    "    int_value = int(user_input)\n",
    "    print(f\"Converted to integer: {int_value}\")\n",
    "except ValueError:\n",
    "    print(\"Could not convert to integer.\")\n",
    "\n",
    "try:\n",
    "    float_value = float(user_input)\n",
    "    print(f\"Converted to float: {float_value}\")\n",
    "except ValueError:\n",
    "    print(\"Could not convert to float.\")\n",
    "\n",
    "bool_value = bool(user_input)\n",
    "print(f\"Converted to boolean: {bool_value}\")"
   ]
  },
  {
   "cell_type": "markdown",
   "id": "7e4c135e-1cfd-48f2-9339-ae719020443f",
   "metadata": {},
   "source": [
    "## Write code to demonstrate type casting with list elements"
   ]
  },
  {
   "cell_type": "code",
   "execution_count": 7,
   "id": "9401202f-0e2e-4e99-b9e4-ca76d7cad251",
   "metadata": {},
   "outputs": [
    {
     "name": "stdout",
     "output_type": "stream",
     "text": [
      "[10, 0, 0, 30]\n",
      "[10.0, 20.5, 0.0, 30.0]\n",
      "[True, True, True, True]\n"
     ]
    }
   ],
   "source": [
    "my_list = [\"10\", \"20.5\", \"True\", \"30\"]\n",
    "\n",
    "int_list = [int(x) if x.isdigit() else 0 for x in my_list]\n",
    "float_list = [float(x) if x.replace('.', '', 1).isdigit() else 0.0 for x in my_list]\n",
    "bool_list = [bool(x) for x in my_list]\n",
    "\n",
    "print(int_list)\n",
    "print(float_list)\n",
    "print(bool_list)"
   ]
  },
  {
   "cell_type": "markdown",
   "id": "ce332ff1-d492-483c-9e98-ea84d6ff9487",
   "metadata": {},
   "source": [
    "## Write a program that checks if a number is positive, negative, or zero"
   ]
  },
  {
   "cell_type": "code",
   "execution_count": 8,
   "id": "571e9226-4f1c-458f-9f37-b18364073034",
   "metadata": {},
   "outputs": [
    {
     "name": "stdin",
     "output_type": "stream",
     "text": [
      "Enter a number:  1\n"
     ]
    },
    {
     "name": "stdout",
     "output_type": "stream",
     "text": [
      "The number is positive.\n"
     ]
    }
   ],
   "source": [
    "number = float(input(\"Enter a number: \"))\n",
    "\n",
    "if number > 0:\n",
    "    print(\"The number is positive.\")\n",
    "elif number < 0:\n",
    "    print(\"The number is negative.\")\n",
    "else:\n",
    "    print(\"The number is zero.\")"
   ]
  },
  {
   "cell_type": "markdown",
   "id": "c962eec9-7f27-48b4-94da-705cb1edf2ed",
   "metadata": {},
   "source": [
    "## Write a for loop to print numbers from 1 to 100"
   ]
  },
  {
   "cell_type": "code",
   "execution_count": 9,
   "id": "6964b84c-e305-451f-aaed-92b93d796508",
   "metadata": {},
   "outputs": [
    {
     "name": "stdout",
     "output_type": "stream",
     "text": [
      "1\n",
      "2\n",
      "3\n",
      "4\n",
      "5\n",
      "6\n",
      "7\n",
      "8\n",
      "9\n",
      "10\n",
      "11\n",
      "12\n",
      "13\n",
      "14\n",
      "15\n",
      "16\n",
      "17\n",
      "18\n",
      "19\n",
      "20\n",
      "21\n",
      "22\n",
      "23\n",
      "24\n",
      "25\n",
      "26\n",
      "27\n",
      "28\n",
      "29\n",
      "30\n",
      "31\n",
      "32\n",
      "33\n",
      "34\n",
      "35\n",
      "36\n",
      "37\n",
      "38\n",
      "39\n",
      "40\n",
      "41\n",
      "42\n",
      "43\n",
      "44\n",
      "45\n",
      "46\n",
      "47\n",
      "48\n",
      "49\n",
      "50\n",
      "51\n",
      "52\n",
      "53\n",
      "54\n",
      "55\n",
      "56\n",
      "57\n",
      "58\n",
      "59\n",
      "60\n",
      "61\n",
      "62\n",
      "63\n",
      "64\n",
      "65\n",
      "66\n",
      "67\n",
      "68\n",
      "69\n",
      "70\n",
      "71\n",
      "72\n",
      "73\n",
      "74\n",
      "75\n",
      "76\n",
      "77\n",
      "78\n",
      "79\n",
      "80\n",
      "81\n",
      "82\n",
      "83\n",
      "84\n",
      "85\n",
      "86\n",
      "87\n",
      "88\n",
      "89\n",
      "90\n",
      "91\n",
      "92\n",
      "93\n",
      "94\n",
      "95\n",
      "96\n",
      "97\n",
      "98\n",
      "99\n",
      "100\n"
     ]
    }
   ],
   "source": [
    "for i in range(1, 101):\n",
    "    print(i)"
   ]
  },
  {
   "cell_type": "markdown",
   "id": "7f99d890-375d-48a1-af16-4dfdc16aa64e",
   "metadata": {},
   "source": [
    "## Write a Python program to find the sum of all even numbers between 1 and 50"
   ]
  },
  {
   "cell_type": "code",
   "execution_count": 10,
   "id": "a8835720-e55b-4670-99b6-61f836e3519f",
   "metadata": {},
   "outputs": [
    {
     "name": "stdout",
     "output_type": "stream",
     "text": [
      "The sum of all even numbers between 1 and 50 is: 650\n"
     ]
    }
   ],
   "source": [
    "sum_even = 0\n",
    "\n",
    "for i in range(2, 51, 2):\n",
    "    sum_even += i\n",
    "\n",
    "print(f\"The sum of all even numbers between 1 and 50 is: {sum_even}\")"
   ]
  },
  {
   "cell_type": "markdown",
   "id": "22aeba58-6041-40d9-8432-9970e27180c1",
   "metadata": {},
   "source": [
    "## Write a program to reverse a string using a while loop"
   ]
  },
  {
   "cell_type": "code",
   "execution_count": 11,
   "id": "d53fb414-ae12-4be7-b3a6-06bc01e090ee",
   "metadata": {},
   "outputs": [
    {
     "name": "stdin",
     "output_type": "stream",
     "text": [
      "Enter a string:  this\n"
     ]
    },
    {
     "name": "stdout",
     "output_type": "stream",
     "text": [
      "The reversed string is: siht\n"
     ]
    }
   ],
   "source": [
    "input_string = input(\"Enter a string: \")\n",
    "reversed_string = \"\"\n",
    "index = len(input_string) - 1\n",
    "\n",
    "while index >= 0:\n",
    "    reversed_string += input_string[index]\n",
    "    index -= 1\n",
    "\n",
    "print(f\"The reversed string is: {reversed_string}\")"
   ]
  },
  {
   "cell_type": "markdown",
   "id": "304b8297-4ed8-40e5-a542-67a54598ea74",
   "metadata": {},
   "source": [
    "##  Write a Python program to calculate the factorial of a number provided by the user using a while loop."
   ]
  },
  {
   "cell_type": "code",
   "execution_count": 12,
   "id": "ef0016ce-8987-4c1a-9a7e-fb838595fe19",
   "metadata": {},
   "outputs": [
    {
     "name": "stdin",
     "output_type": "stream",
     "text": [
      "Enter a number:  12\n"
     ]
    },
    {
     "name": "stdout",
     "output_type": "stream",
     "text": [
      "The factorial of 12 is: 479001600\n"
     ]
    }
   ],
   "source": [
    "number = int(input(\"Enter a number: \"))\n",
    "factorial = 1\n",
    "i = 1\n",
    "\n",
    "while i <= number:\n",
    "    factorial *= i\n",
    "    i += 1\n",
    "\n",
    "print(f\"The factorial of {number} is: {factorial}\")"
   ]
  },
  {
   "cell_type": "code",
   "execution_count": null,
   "id": "180d35cc-f3e7-4ccd-943a-db3a1ad5a1b9",
   "metadata": {},
   "outputs": [],
   "source": []
  }
 ],
 "metadata": {
  "kernelspec": {
   "display_name": "Python 3 (ipykernel)",
   "language": "python",
   "name": "python3"
  },
  "language_info": {
   "codemirror_mode": {
    "name": "ipython",
    "version": 3
   },
   "file_extension": ".py",
   "mimetype": "text/x-python",
   "name": "python",
   "nbconvert_exporter": "python",
   "pygments_lexer": "ipython3",
   "version": "3.13.0"
  }
 },
 "nbformat": 4,
 "nbformat_minor": 5
}
