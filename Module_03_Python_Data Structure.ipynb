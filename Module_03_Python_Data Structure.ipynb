{
  "cells": [
    {
      "cell_type": "markdown",
      "id": "1b91705f",
      "metadata": {
        "id": "1b91705f"
      },
      "source": [
        "### What are data structures, and why are they important?\n",
        "\n",
        "Data structures are ways of organizing and storing data to make it easier to perform operations like searching, updating, and managing the data efficiently. They are crucial because they determine how effectively tasks such as accessing or modifying data can be performed."
      ]
    },
    {
      "cell_type": "markdown",
      "id": "1146790c",
      "metadata": {
        "id": "1146790c"
      },
      "source": [
        "### Explain the difference between mutable and immutable data types with examples.\n",
        "\n",
        "Mutable data types can be changed after creation, such as lists (`[1, 2, 3]`). Immutable data types, like tuples (`(1, 2, 3)`), cannot be altered once created. For example, you can add elements to a list, but you cannot modify a tuple's contents."
      ]
    },
    {
      "cell_type": "markdown",
      "id": "834381fc",
      "metadata": {
        "id": "834381fc"
      },
      "source": [
        "### What are the main differences between lists and tuples in Python?\n",
        "\n",
        "Lists are mutable and allow modifications, while tuples are immutable. Lists are generally used when data changes are required, whereas tuples are ideal for data that should remain constant."
      ]
    },
    {
      "cell_type": "markdown",
      "id": "5cf4bc1d",
      "metadata": {
        "id": "5cf4bc1d"
      },
      "source": [
        "### Describe how dictionaries store data.\n",
        "\n",
        "Dictionaries store data in key-value pairs, where each key is unique and acts as an identifier to access its associated value. This structure is optimized for quick lookups."
      ]
    },
    {
      "cell_type": "markdown",
      "id": "1f74c1a8",
      "metadata": {
        "id": "1f74c1a8"
      },
      "source": [
        "### Why might you use a set instead of a list in Python?\n",
        "\n",
        "Sets are useful when you need a collection of unique elements and don’t care about maintaining order. They automatically remove duplicates and support fast membership checks."
      ]
    },
    {
      "cell_type": "markdown",
      "id": "c605071b",
      "metadata": {
        "id": "c605071b"
      },
      "source": [
        "### What is a string in Python, and how is it different from a list?\n",
        "\n",
        "A string is a sequence of characters, while a list can hold elements of various data types. Strings are immutable, so their content cannot be changed, unlike lists, which are mutable."
      ]
    },
    {
      "cell_type": "markdown",
      "id": "9825eb1b",
      "metadata": {
        "id": "9825eb1b"
      },
      "source": [
        "### How do tuples ensure data integrity in Python?\n",
        "\n",
        "Tuples ensure data integrity by being immutable. This immutability prevents accidental changes to the data, making them a reliable choice for storing fixed collections."
      ]
    },
    {
      "cell_type": "markdown",
      "id": "9fdfbd78",
      "metadata": {
        "id": "9fdfbd78"
      },
      "source": [
        "### What is a hash table, and how does it relate to dictionaries in Python?\n",
        "\n",
        "A hash table is a data structure that maps keys to values using a hash function. Dictionaries in Python use hash tables internally to provide fast key-based lookups."
      ]
    },
    {
      "cell_type": "markdown",
      "id": "246382fc",
      "metadata": {
        "id": "246382fc"
      },
      "source": [
        "### Can lists contain different data types in Python?\n",
        "\n",
        "Yes, Python lists can hold elements of different data types. For example, a list could contain integers, strings, and even other lists."
      ]
    },
    {
      "cell_type": "markdown",
      "id": "ac5f015c",
      "metadata": {
        "id": "ac5f015c"
      },
      "source": [
        "### Explain why strings are immutable in Python.\n",
        "\n",
        "Strings are immutable to optimize performance and memory usage. Immutability allows Python to reuse string objects and makes them safe to use in scenarios requiring consistent behavior."
      ]
    },
    {
      "cell_type": "markdown",
      "id": "dbee7bb4",
      "metadata": {
        "id": "dbee7bb4"
      },
      "source": [
        "### What advantages do dictionaries offer over lists for certain tasks?\n",
        "\n",
        "Dictionaries provide fast lookups and are better for representing structured data with relationships, such as mappings between keys and values. Lists, by contrast, require sequential searching, which can be slower."
      ]
    },
    {
      "cell_type": "markdown",
      "id": "5548403c",
      "metadata": {
        "id": "5548403c"
      },
      "source": [
        "### Describe a scenario where using a tuple would be preferable over a list.\n",
        "\n",
        "Tuples are ideal when you want to ensure the data remains unchanged, such as representing coordinates `(x, y)` or passing constant values to a function."
      ]
    },
    {
      "cell_type": "markdown",
      "id": "408c3e90",
      "metadata": {
        "id": "408c3e90"
      },
      "source": [
        "### How do sets handle duplicate values in Python?\n",
        "\n",
        "Sets automatically discard duplicate values. When you add elements to a set, any duplicates are ignored, ensuring that all elements remain unique."
      ]
    },
    {
      "cell_type": "markdown",
      "id": "e96056c3",
      "metadata": {
        "id": "e96056c3"
      },
      "source": [
        "### How does the “in” keyword work differently for lists and dictionaries?\n",
        "\n",
        "For lists, the `in` keyword checks if a value exists in the sequence. For dictionaries, it checks for the existence of a key, not the value."
      ]
    },
    {
      "cell_type": "markdown",
      "id": "67954623",
      "metadata": {
        "id": "67954623"
      },
      "source": [
        "### Can you modify the elements of a tuple? Explain why or why not.\n",
        "\n",
        "No, tuples are immutable, so their elements cannot be modified. This property ensures that the data stored in tuples remains constant."
      ]
    },
    {
      "cell_type": "markdown",
      "id": "f029ea84",
      "metadata": {
        "id": "f029ea84"
      },
      "source": [
        "### What is a nested dictionary, and give an example of its use case?\n",
        "\n",
        "A nested dictionary is a dictionary where values are themselves dictionaries. It’s useful for representing hierarchical or multi-level data, such as storing details about employees organized by departments.\n",
        "\n",
        "Example:\n",
        "```python\n",
        "company = {\n",
        "    \"HR\": {\"Alice\": 25, \"Bob\": 30},\n",
        "    \"IT\": {\"Eve\": 28, \"Charlie\": 35}\n",
        "}\n",
        "```"
      ]
    },
    {
      "cell_type": "markdown",
      "id": "b011b6e0",
      "metadata": {
        "id": "b011b6e0"
      },
      "source": [
        "### Describe the time complexity of accessing elements in a dictionary.\n",
        "\n",
        "Accessing elements in a dictionary has an average time complexity of O(1), thanks to its use of a hash table. However, in rare cases of hash collisions, it may degrade to O(n)."
      ]
    },
    {
      "cell_type": "markdown",
      "id": "2465c6aa",
      "metadata": {
        "id": "2465c6aa"
      },
      "source": [
        "### In what situations are lists preferred over dictionaries?\n",
        "\n",
        "Lists are preferred when order matters, and you need to perform operations on sequences of data. They are also suitable when the data does not have key-value relationships."
      ]
    },
    {
      "cell_type": "markdown",
      "id": "e8562bb4",
      "metadata": {
        "id": "e8562bb4"
      },
      "source": [
        "### Why are dictionaries considered unordered, and how does that affect data retrieval?\n",
        "\n",
        "Dictionaries are considered unordered because their keys are stored based on hash values, not insertion order (prior to Python 3.7). This means the order of items might not be preserved during retrieval."
      ]
    },
    {
      "cell_type": "markdown",
      "id": "56e9bdab",
      "metadata": {
        "id": "56e9bdab"
      },
      "source": [
        "### Explain the difference between a list and a dictionary in terms of data retrieval.\n",
        "\n",
        "Lists require sequential access to retrieve an item, which can be slow for large data sets. Dictionaries, on the other hand, use keys to retrieve values directly, making them more efficient for lookups."
      ]
    },
    {
      "cell_type": "markdown",
      "id": "8227afe9-73d1-4b74-bf20-8b81a46e5c12",
      "metadata": {
        "id": "8227afe9-73d1-4b74-bf20-8b81a46e5c12"
      },
      "source": [
        "# Practical Questions"
      ]
    },
    {
      "cell_type": "code",
      "execution_count": null,
      "metadata": {
        "id": "f4755cb4"
      },
      "outputs": [],
      "source": [
        "# Create a string with your name and print it\n",
        "name = \"Sachin Sharma\"\n",
        "print(name)"
      ],
      "id": "f4755cb4"
    },
    {
      "cell_type": "code",
      "execution_count": null,
      "metadata": {
        "id": "2b6772ad"
      },
      "outputs": [],
      "source": [
        "# Find the length of the string \"Hello World\"\n",
        "string = \"Hello World\"\n",
        "print(len(string))"
      ],
      "id": "2b6772ad"
    },
    {
      "cell_type": "code",
      "execution_count": null,
      "metadata": {
        "id": "bab0d591"
      },
      "outputs": [],
      "source": [
        "# Slice the first 3 characters from the string \"Python Programming\"\n",
        "text = \"Python Programming\"\n",
        "print(text[:3])"
      ],
      "id": "bab0d591"
    },
    {
      "cell_type": "code",
      "execution_count": null,
      "metadata": {
        "id": "6315c0aa"
      },
      "outputs": [],
      "source": [
        "# Convert the string \"hello\" to uppercase\n",
        "word = \"hello\"\n",
        "print(word.upper())"
      ],
      "id": "6315c0aa"
    },
    {
      "cell_type": "code",
      "execution_count": null,
      "metadata": {
        "id": "a5cd5c44"
      },
      "outputs": [],
      "source": [
        "# Replace the word \"apple\" with \"orange\" in the string \"I like apple\"\n",
        "sentence = \"I like apple\"\n",
        "print(sentence.replace(\"apple\", \"orange\"))"
      ],
      "id": "a5cd5c44"
    },
    {
      "cell_type": "code",
      "execution_count": null,
      "metadata": {
        "id": "976b224f"
      },
      "outputs": [],
      "source": [
        "# Create a list with numbers 1 to 5 and print it\n",
        "numbers = [1, 2, 3, 4, 5]\n",
        "print(numbers)"
      ],
      "id": "976b224f"
    },
    {
      "cell_type": "code",
      "execution_count": null,
      "metadata": {
        "id": "59b642b9"
      },
      "outputs": [],
      "source": [
        "# Append the number 10 to the list [1, 2, 3, 4]\n",
        "list_numbers = [1, 2, 3, 4]\n",
        "list_numbers.append(10)\n",
        "print(list_numbers)"
      ],
      "id": "59b642b9"
    },
    {
      "cell_type": "code",
      "execution_count": null,
      "metadata": {
        "id": "36f97636"
      },
      "outputs": [],
      "source": [
        "# Remove the number 3 from the list [1, 2, 3, 4, 5]\n",
        "numbers_list = [1, 2, 3, 4, 5]\n",
        "numbers_list.remove(3)\n",
        "print(numbers_list)"
      ],
      "id": "36f97636"
    },
    {
      "cell_type": "code",
      "execution_count": null,
      "metadata": {
        "id": "4216a128"
      },
      "outputs": [],
      "source": [
        "# Access the second element in the list ['a', 'b', 'c', 'd']\n",
        "letters = ['a', 'b', 'c', 'd']\n",
        "print(letters[1])"
      ],
      "id": "4216a128"
    },
    {
      "cell_type": "code",
      "execution_count": null,
      "metadata": {
        "id": "3ef409ec"
      },
      "outputs": [],
      "source": [
        "# Reverse the list [10, 20, 30, 40, 50]\n",
        "num_list = [10, 20, 30, 40, 50]\n",
        "print(num_list[::-1])"
      ],
      "id": "3ef409ec"
    },
    {
      "cell_type": "code",
      "execution_count": null,
      "metadata": {
        "id": "4ae50718"
      },
      "outputs": [],
      "source": [
        "# Create a tuple with the elements 10, 20, 30 and print it\n",
        "numbers_tuple = (10, 20, 30)\n",
        "print(numbers_tuple)"
      ],
      "id": "4ae50718"
    },
    {
      "cell_type": "code",
      "execution_count": null,
      "metadata": {
        "id": "71277958"
      },
      "outputs": [],
      "source": [
        "# Access the first element of the tuple ('apple', 'banana', 'cherry')\n",
        "fruits = ('apple', 'banana', 'cherry')\n",
        "print(fruits[0])"
      ],
      "id": "71277958"
    },
    {
      "cell_type": "code",
      "execution_count": null,
      "metadata": {
        "id": "4cdb4b47"
      },
      "outputs": [],
      "source": [
        "# Count how many times the number 2 appears in the tuple (1, 2, 3, 2, 4, 2)\n",
        "numbers = (1, 2, 3, 2, 4, 2)\n",
        "print(numbers.count(2))"
      ],
      "id": "4cdb4b47"
    },
    {
      "cell_type": "code",
      "execution_count": null,
      "metadata": {
        "id": "b742d58d"
      },
      "outputs": [],
      "source": [
        "# Find the index of the element \"cat\" in the tuple ('dog', 'cat', 'rabbit')\n",
        "animals = ('dog', 'cat', 'rabbit')\n",
        "print(animals.index('cat'))"
      ],
      "id": "b742d58d"
    },
    {
      "cell_type": "code",
      "execution_count": null,
      "metadata": {
        "id": "8e42b004"
      },
      "outputs": [],
      "source": [
        "# Check if the element \"banana\" is in the tuple ('apple', 'orange', 'banana')\n",
        "fruits = ('apple', 'orange', 'banana')\n",
        "print('banana' in fruits)"
      ],
      "id": "8e42b004"
    },
    {
      "cell_type": "code",
      "execution_count": null,
      "metadata": {
        "id": "d00ad644"
      },
      "outputs": [],
      "source": [
        "# Create a set with the elements 1, 2, 3, 4, 5 and print it\n",
        "unique_numbers = {1, 2, 3, 4, 5}\n",
        "print(unique_numbers)"
      ],
      "id": "d00ad644"
    },
    {
      "cell_type": "code",
      "execution_count": null,
      "metadata": {
        "id": "3baaff40"
      },
      "outputs": [],
      "source": [
        "# Add the element 6 to the set {1, 2, 3, 4}\n",
        "numbers_set = {1, 2, 3, 4}\n",
        "numbers_set.add(6)\n",
        "print(numbers_set)"
      ],
      "id": "3baaff40"
    },
    {
      "cell_type": "code",
      "execution_count": null,
      "metadata": {
        "id": "97f1f606-8a8d-4d95-99ba-6ef557b0534a"
      },
      "outputs": [],
      "source": [
        "# Create a tuple with the elements 10, 20, 30 and print it\n",
        "tuple_numbers = (10, 20, 30)\n",
        "print(tuple_numbers)\n"
      ],
      "id": "97f1f606-8a8d-4d95-99ba-6ef557b0534a"
    },
    {
      "cell_type": "code",
      "execution_count": null,
      "metadata": {
        "id": "acef55a6-cbd3-4015-8213-7293cfd75946"
      },
      "outputs": [],
      "source": [
        "# Access the first element of the tuple ('apple', 'banana', 'cherry')\n",
        "fruits_tuple = ('apple', 'banana', 'cherry')\n",
        "print(fruits_tuple[0])\n"
      ],
      "id": "acef55a6-cbd3-4015-8213-7293cfd75946"
    },
    {
      "cell_type": "code",
      "execution_count": null,
      "metadata": {
        "id": "f6b05219-6f3c-413a-b2cb-ebab9c3abda0"
      },
      "outputs": [],
      "source": [
        "# Count how many times the number 2 appears in the tuple (1, 2, 3, 2, 4, 2)\n",
        "numbers_tuple = (1, 2, 3, 2, 4, 2)\n",
        "print(numbers_tuple.count(2))\n"
      ],
      "id": "f6b05219-6f3c-413a-b2cb-ebab9c3abda0"
    },
    {
      "cell_type": "code",
      "execution_count": null,
      "metadata": {
        "id": "cb859b59-2584-494b-9273-aac3d0e9bd86"
      },
      "outputs": [],
      "source": [
        "# Find the index of the element \"cat\" in the tuple ('dog', 'cat', 'rabbit')\n",
        "animals_tuple = ('dog', 'cat', 'rabbit')\n",
        "print(animals_tuple.index('cat'))\n"
      ],
      "id": "cb859b59-2584-494b-9273-aac3d0e9bd86"
    },
    {
      "cell_type": "code",
      "execution_count": null,
      "metadata": {
        "id": "7b360f1f-686e-4794-bfa4-ca4562cb0163"
      },
      "outputs": [],
      "source": [
        "# Check if the element \"banana\" is in the tuple ('apple', 'orange', 'banana')\n",
        "fruits_check = ('apple', 'orange', 'banana')\n",
        "print('banana' in fruits_check)\n"
      ],
      "id": "7b360f1f-686e-4794-bfa4-ca4562cb0163"
    },
    {
      "cell_type": "code",
      "execution_count": null,
      "metadata": {
        "id": "111ba734-6dc2-470f-8db5-0600f9b691c3"
      },
      "outputs": [],
      "source": [
        "# Create a set with the elements 1, 2, 3, 4, 5 and print it\n",
        "set_numbers = {1, 2, 3, 4, 5}\n",
        "print(set_numbers)\n"
      ],
      "id": "111ba734-6dc2-470f-8db5-0600f9b691c3"
    },
    {
      "cell_type": "code",
      "execution_count": null,
      "metadata": {
        "id": "cdda6a53-85a3-471d-a60d-5d7280ee8e78"
      },
      "outputs": [],
      "source": [
        "# Add the element 6 to the set {1, 2, 3, 4}\n",
        "set_add = {1, 2, 3, 4}\n",
        "set_add.add(6)\n",
        "print(set_add)\n"
      ],
      "id": "cdda6a53-85a3-471d-a60d-5d7280ee8e78"
    }
  ],
  "metadata": {
    "kernelspec": {
      "display_name": "Python 3 (ipykernel)",
      "language": "python",
      "name": "python3"
    },
    "language_info": {
      "codemirror_mode": {
        "name": "ipython",
        "version": 3
      },
      "file_extension": ".py",
      "mimetype": "text/x-python",
      "name": "python",
      "nbconvert_exporter": "python",
      "pygments_lexer": "ipython3",
      "version": "3.13.0"
    },
    "colab": {
      "provenance": []
    }
  },
  "nbformat": 4,
  "nbformat_minor": 5
}