{
 "cells": [
  {
   "cell_type": "markdown",
   "id": "d8d98260-0cb1-4534-9b56-c32ce80230b2",
   "metadata": {},
   "source": [
    "### 1. What is Object-Oriented Programming (OOP)?\n",
    "Object-Oriented Programming (OOP) is a programming paradigm based on the concept of **objects**, which can contain:  \n",
    "- **Data** in the form of fields (attributes).  \n",
    "- **Code** in the form of methods (functions).  \n",
    "\n",
    "OOP emphasizes key principles like **encapsulation**, **inheritance**, and **polymorphism** to create modular and reusable code.\n"
   ]
  },
  {
   "cell_type": "markdown",
   "id": "bd238fe1-052f-428d-a398-6413c0e470d9",
   "metadata": {},
   "source": [
    "### 2. What is a class in OOP?\n",
    "A **class** is a blueprint for creating objects. It defines a set of attributes and methods that the objects created from the class will have.\n",
    "\n",
    "**Example:**\n",
    "```python\n",
    "class Car:\n",
    "    def __init__(self, brand, model):\n",
    "        self.brand = brand\n",
    "        self.model = model\n",
    "```"
   ]
  },
  {
   "cell_type": "markdown",
   "id": "16e24a31-4c21-4c2a-ab89-008793348511",
   "metadata": {},
   "source": [
    "### 3. What is an object in OOP?\n",
    "An **object** is an instance of a class. It represents a real-world entity with attributes and behaviors defined by its class.\n",
    "\n",
    "**Example:**\n",
    "```python\n",
    "car1 = Car(\"Toyota\", \"Corolla\")\n",
    "```\n",
    "\n",
    "---"
   ]
  },
  {
   "cell_type": "markdown",
   "id": "1939acb2-97ad-427c-8e57-7231eac7e697",
   "metadata": {},
   "source": [
    "### 4. What is the difference between abstraction and encapsulation?\n",
    "- **Abstraction**: Hides implementation details and shows only the essential features of an object.  \n",
    "- **Encapsulation**: Bundles data and methods into a single unit (class) and restricts access to some components.\n",
    "\n",
    "---"
   ]
  },
  {
   "cell_type": "markdown",
   "id": "e9fcec01-7263-445e-a4f7-f05e8f462e8e",
   "metadata": {},
   "source": [
    "### 5. What are dunder methods in Python?\n",
    "**Dunder methods** (short for double underscore methods) are special methods in Python with double underscores at the beginning and end of their names (e.g., `__init__`, `__str__`). They customize the behavior of Python objects.\n",
    "\n",
    "**Example:**\n",
    "```python\n",
    "def __str__(self):\n",
    "    return f\"{self.brand} {self.model}\"\n",
    "```\n",
    "\n",
    "---"
   ]
  },
  {
   "cell_type": "markdown",
   "id": "1ef77e47-b48e-41e4-99fe-b8538ae2e0fa",
   "metadata": {},
   "source": [
    "### 5. What are dunder methods in Python?\n",
    "**Dunder methods** (short for double underscore methods) are special methods in Python with double underscores at the beginning and end of their names (e.g., `__init__`, `__str__`). They customize the behavior of Python objects.\n",
    "\n",
    "**Example:**\n",
    "```python\n",
    "def __str__(self):\n",
    "    return f\"{self.brand} {self.model}\"\n",
    "```\n",
    "\n",
    "---"
   ]
  },
  {
   "cell_type": "markdown",
   "id": "83c2228e-6047-4d37-a775-917bd22d1535",
   "metadata": {},
   "source": [
    "### 6. Explain the concept of inheritance in OOP.\n",
    "**Inheritance** allows a class (child class) to inherit attributes and methods from another class (parent class). This promotes code reuse and hierarchical relationships.\n",
    "\n",
    "**Example:**\n",
    "```python\n",
    "class ElectricCar(Car):\n",
    "    def __init__(self, brand, model, battery_capacity):\n",
    "        super().__init__(brand, model)\n",
    "        self.battery_capacity = battery_capacity\n",
    "```\n",
    "\n",
    "---"
   ]
  },
  {
   "cell_type": "markdown",
   "id": "21996294-c026-4482-b57b-cd959bc9d106",
   "metadata": {},
   "source": [
    "### 7. What is polymorphism in OOP?\n",
    "**Polymorphism** means \"many forms.\" It allows objects of different classes to be treated as objects of a common superclass, typically through methods or operations.\n",
    "\n",
    "**Example:**\n",
    "```python\n",
    "def start_vehicle(vehicle):\n",
    "    vehicle.start()\n",
    "```\n",
    "\n",
    "---"
   ]
  },
  {
   "cell_type": "markdown",
   "id": "257d649b-e255-4872-b960-75816381409c",
   "metadata": {},
   "source": [
    "### 8. How is encapsulation achieved in Python?\n",
    "Encapsulation is achieved by defining private attributes or methods using a single or double underscore (`_` or `__`).\n",
    "\n",
    "**Example:**\n",
    "```python\n",
    "class BankAccount:\n",
    "    def __init__(self):\n",
    "        self.__balance = 0\n",
    "\n",
    "    def deposit(self, amount):\n",
    "        self.__balance += amount\n",
    "\n",
    "    def get_balance(self):\n",
    "        return self.__balance\n",
    "```\n",
    "\n",
    "---"
   ]
  },
  {
   "cell_type": "markdown",
   "id": "eb060920-5b67-4097-9fe2-66d7d4601560",
   "metadata": {},
   "source": [
    "### 9. What is a constructor in Python?\n",
    "A **constructor** is a special method (`__init__`) in Python that is automatically called when an object is created. It initializes attributes of the class.\n",
    "\n",
    "**Example:**\n",
    "```python\n",
    "def __init__(self, brand, model):\n",
    "    self.brand = brand\n",
    "    self.model = model\n",
    "```\n",
    "\n",
    "---"
   ]
  },
  {
   "cell_type": "markdown",
   "id": "fd7c7b85-bd57-4406-9665-3c99f6d7a2e9",
   "metadata": {},
   "source": [
    "### 10. What are class and static methods in Python?\n",
    "- **Class methods** operate on the class itself and are defined using the `@classmethod` decorator.  \n",
    "- **Static methods** do not operate on the instance or the class and are defined using the `@staticmethod` decorator.\n",
    "\n",
    "**Example:**\n",
    "```python\n",
    "@classmethod\n",
    "def from_string(cls, car_str):\n",
    "    brand, model = car_str.split(\" \")\n",
    "    return cls(brand, model)\n",
    "\n",
    "@staticmethod\n",
    "def is_valid_model(model):\n",
    "    return model in [\"Model S\", \"Model 3\"]\n",
    "```\n",
    "\n",
    "---"
   ]
  },
  {
   "cell_type": "markdown",
   "id": "dfae6999-6f1c-41b8-a431-7528da2b3aaa",
   "metadata": {},
   "source": [
    "\n",
    "### 11. What is method overloading in Python?\n",
    "**Method overloading** refers to defining multiple methods with the same name but different parameters. While Python does not support it directly, it can be implemented using default parameters.\n",
    "\n",
    "**Example:**\n",
    "```python\n",
    "def greet(self, name=None):\n",
    "    if name:\n",
    "        print(f\"Hello, {name}!\")\n",
    "    else:\n",
    "        print(\"Hello!\")\n",
    "```\n",
    "\n",
    "---"
   ]
  },
  {
   "cell_type": "markdown",
   "id": "ebb83b64-a73e-41a0-86d8-4c4c3a0b2fde",
   "metadata": {},
   "source": [
    "### 12. What is method overriding in OOP?\n",
    "**Method overriding** allows a child class to provide a specific implementation of a method that is already defined in its parent class.\n",
    "\n",
    "**Example:**\n",
    "```python\n",
    "class ElectricCar(Car):\n",
    "    def start(self):\n",
    "        print(\"Electric Car started.\")\n",
    "```\n",
    "\n",
    "---"
   ]
  },
  {
   "cell_type": "markdown",
   "id": "eb35bb2c-bce2-41ad-87d1-e441d4afe13f",
   "metadata": {},
   "source": [
    "### 13. What is a property decorator in Python?\n",
    "The `@property` decorator is used to define getter methods for class attributes, allowing attribute access using the dot notation.\n",
    "\n",
    "**Example:**\n",
    "```python\n",
    "@property\n",
    "def full_name(self):\n",
    "    return f\"{self.brand} {self.model}\"\n",
    "```\n",
    "\n",
    "---"
   ]
  },
  {
   "cell_type": "markdown",
   "id": "e2ab1513-489c-4ea2-b157-cd057e27f8d0",
   "metadata": {},
   "source": [
    "### 14. Why is polymorphism important in OOP?\n",
    "Polymorphism allows for **flexibility** and **reusability** in code. It enables objects of different classes to respond to the same function or method call in their own way.\n",
    "\n",
    "---"
   ]
  },
  {
   "cell_type": "markdown",
   "id": "5a1f66e6-d244-40de-bfcf-15cef4ba36df",
   "metadata": {},
   "source": [
    "### 15. What is an abstract class in Python?\n",
    "An **abstract class** is a class that cannot be instantiated. It is defined using the `ABC` (Abstract Base Class) module and may contain one or more abstract methods.\n",
    "\n",
    "**Example:**\n",
    "```python\n",
    "from abc import ABC, abstractmethod\n",
    "\n",
    "class Vehicle(ABC):\n",
    "    @abstractmethod\n",
    "    def start(self):\n",
    "        pass\n",
    "```\n",
    "\n",
    "---"
   ]
  },
  {
   "cell_type": "markdown",
   "id": "ffb08eb1-707e-4a31-ba74-28d1bed0e078",
   "metadata": {},
   "source": [
    "### 16. What are the advantages of OOP?\n",
    "- **Modularity**  \n",
    "- **Reusability**  \n",
    "- **Scalability**  \n",
    "- **Maintainability**  \n",
    "- **Abstraction and Encapsulation**\n",
    "\n",
    "---"
   ]
  },
  {
   "cell_type": "markdown",
   "id": "99e0f08e-cf16-4d27-b755-a509b5df3d96",
   "metadata": {},
   "source": [
    "### 17. What is the difference between a class variable and an instance variable?\n",
    "- **Class variables** are shared across all instances of a class.  \n",
    "- **Instance variables** are specific to each instance and unique to that object.\n",
    "\n",
    "---"
   ]
  },
  {
   "cell_type": "markdown",
   "id": "e5a92fac-7ec7-42fd-a7ba-f29c9827b61e",
   "metadata": {},
   "source": [
    "### 18. What is multiple inheritance in Python?\n",
    "**Multiple inheritance** allows a class to inherit from more than one base class.\n",
    "\n",
    "**Example:**\n",
    "```python\n",
    "class A:\n",
    "    pass\n",
    "\n",
    "class B:\n",
    "    pass\n",
    "\n",
    "class C(A, B):\n",
    "    pass\n",
    "```\n",
    "\n",
    "---"
   ]
  },
  {
   "cell_type": "markdown",
   "id": "f1761356-8e17-43bc-8ec9-7dda669db596",
   "metadata": {},
   "source": [
    "### 19. Explain the purpose of `__str__` and `__repr__` methods in Python.\n",
    "- **`__str__`**: Provides a user-friendly string representation of an object.  \n",
    "- **`__repr__`**: Provides an official string representation of an object, useful for debugging.\n",
    "\n",
    "---"
   ]
  },
  {
   "cell_type": "markdown",
   "id": "3983501b-2642-4f8c-9d2f-6564d43ad5cd",
   "metadata": {},
   "source": [
    "### 20. What is the significance of the `super()` function in Python?\n",
    "The `super()` function allows access to the methods of a parent class, often used to call the constructor or overridden methods of the parent class.\n",
    "\n",
    "---"
   ]
  },
  {
   "cell_type": "markdown",
   "id": "7d75d6f9-e108-4ae5-a2e4-011a45529493",
   "metadata": {},
   "source": [
    "### 21. What is the significance of the `__del__` method in Python?\n",
    "The `__del__` method is a destructor method called when an object is about to be destroyed. It is used for cleanup tasks.\n",
    "\n",
    "---"
   ]
  },
  {
   "cell_type": "markdown",
   "id": "061fd8ff-9cd6-4587-abf0-148b0711e554",
   "metadata": {},
   "source": [
    "### 22. What is the difference between `@staticmethod` and `@classmethod` in Python?\n",
    "- **`@staticmethod`**: Does not take a reference to the class or instance.  \n",
    "- **`@classmethod`**: Takes a reference to the class as its first parameter.\n",
    "\n",
    "---"
   ]
  },
  {
   "cell_type": "markdown",
   "id": "af1db27b-a8cc-41ae-a8c5-c15ea2d6a134",
   "metadata": {},
   "source": [
    "### 23. How does polymorphism work in Python with inheritance?\n",
    "Polymorphism allows methods in child classes to have the same name as methods in parent classes, enabling them to behave differently based on the object.\n",
    "\n",
    "---"
   ]
  },
  {
   "cell_type": "markdown",
   "id": "327bac34-0eb2-45f1-8f26-5310390c9af3",
   "metadata": {},
   "source": [
    "### 24. What is method chaining in Python OOP?\n",
    "**Method chaining** allows multiple methods to be called on the same object sequentially.\n",
    "\n",
    "**Example:**\n",
    "```python\n",
    "obj.method1().method2()\n",
    "```\n",
    "\n",
    "---"
   ]
  },
  {
   "cell_type": "markdown",
   "id": "be03c8e7-a2fd-4aee-898e-7a05c6e0fd56",
   "metadata": {},
   "source": [
    "### 25. What is the purpose of the `__call__` method in Python?\n",
    "The `__call__` method allows an object to be called as if it were a function.\n",
    "\n",
    "**Example:**\n",
    "```python\n",
    "def __call__(self):\n",
    "    print(\"Object called as a function\")\n",
    "```"
   ]
  },
  {
   "cell_type": "markdown",
   "id": "e469a571-af31-421e-9ab1-ee31795b2a60",
   "metadata": {},
   "source": [
    "## Practical Questions"
   ]
  },
  {
   "cell_type": "markdown",
   "id": "492108aa-4e2b-43ab-b1d9-4217b96803d4",
   "metadata": {},
   "source": [
    "### 1.  Create a parent class Animal with a method speak() that prints a generic message. Create a child class Dog that overrides the speak() method to print \"Bark!\".\n"
   ]
  },
  {
   "cell_type": "code",
   "execution_count": 8,
   "id": "8f4b0d45-da40-4bc2-bb29-9a7ec2060d54",
   "metadata": {},
   "outputs": [
    {
     "name": "stdout",
     "output_type": "stream",
     "text": [
      "Bark!\n"
     ]
    }
   ],
   "source": [
    "# Parent class\n",
    "class Animal:\n",
    "    def speak(self):\n",
    "        print(\"Animal makes a sound\")\n",
    "\n",
    "# Child class\n",
    "class Dog(Animal):\n",
    "    def speak(self):\n",
    "        print(\"Bark!\")\n",
    "\n",
    "# Create an object of the Dog class\n",
    "dog = Dog()\n",
    "dog.speak()  # This will print \"Bark!\"\n"
   ]
  },
  {
   "cell_type": "markdown",
   "id": "8aff3333-c025-42ac-8e82-59d5e2ae09a2",
   "metadata": {},
   "source": [
    "### 2. Write a program to create an abstract class Shape with a method area(). Derive classes Circle and Rectangle from it and implement the area() method in both"
   ]
  },
  {
   "cell_type": "code",
   "execution_count": 9,
   "id": "8065d280-0217-4ecc-a7a8-cb7d09a0b5fc",
   "metadata": {},
   "outputs": [
    {
     "name": "stdout",
     "output_type": "stream",
     "text": [
      "Area of Circle: 78.53981633974483\n",
      "Area of Rectangle: 24\n"
     ]
    }
   ],
   "source": [
    "from abc import ABC, abstractmethod\n",
    "import math\n",
    "\n",
    "# Abstract class\n",
    "class Shape(ABC):\n",
    "    @abstractmethod\n",
    "    def area(self):\n",
    "        pass\n",
    "\n",
    "# Class Circle that inherits from Shape\n",
    "class Circle(Shape):\n",
    "    def __init__(self, radius):\n",
    "        self.radius = radius\n",
    "\n",
    "    def area(self):\n",
    "        return math.pi * self.radius * self.radius\n",
    "\n",
    "# Class Rectangle that inherits from Shape\n",
    "class Rectangle(Shape):\n",
    "    def __init__(self, width, height):\n",
    "        self.width = width\n",
    "        self.height = height\n",
    "\n",
    "    def area(self):\n",
    "        return self.width * self.height\n",
    "\n",
    "# Create objects of Circle and Rectangle\n",
    "circle = Circle(5)\n",
    "rectangle = Rectangle(4, 6)\n",
    "\n",
    "# Print areas\n",
    "print(\"Area of Circle:\", circle.area())        # Output: Area of Circle: 78.53981633974483\n",
    "print(\"Area of Rectangle:\", rectangle.area())  # Output: Area of Rectangle: 24\n"
   ]
  },
  {
   "cell_type": "markdown",
   "id": "78c48482-adae-4f8e-a5f4-e26fee41b5dd",
   "metadata": {},
   "source": [
    "### 3. Implement a multi-level inheritance scenario where a class Vehicle has an attribute type. Derive a class Car and further derive a class ElectricCar that adds a battery attribute."
   ]
  },
  {
   "cell_type": "code",
   "execution_count": 10,
   "id": "51ef7293-1d01-4061-a1a1-62f02d007636",
   "metadata": {},
   "outputs": [
    {
     "name": "stdout",
     "output_type": "stream",
     "text": [
      "Type: Electric, Brand: Tesla, Battery Capacity: 100 kWh\n"
     ]
    }
   ],
   "source": [
    "# Base class\n",
    "class Vehicle:\n",
    "    def __init__(self, type):\n",
    "        self.type = type\n",
    "\n",
    "# Derived class Car\n",
    "class Car(Vehicle):\n",
    "    def __init__(self, type, brand):\n",
    "        super().__init__(type)\n",
    "        self.brand = brand\n",
    "\n",
    "# Further derived class ElectricCar\n",
    "class ElectricCar(Car):\n",
    "    def __init__(self, type, brand, battery_capacity):\n",
    "        super().__init__(type, brand)\n",
    "        self.battery_capacity = battery_capacity\n",
    "\n",
    "# Create an ElectricCar object\n",
    "electric_car = ElectricCar(\"Electric\", \"Tesla\", 100)\n",
    "print(f\"Type: {electric_car.type}, Brand: {electric_car.brand}, Battery Capacity: {electric_car.battery_capacity} kWh\")\n"
   ]
  },
  {
   "cell_type": "markdown",
   "id": "5482ac37-5a23-4cdf-831a-86d28463e3c9",
   "metadata": {},
   "source": [
    "### 4. Implement a multi-level inheritance scenario where a class Vehicle has an attribute type. Derive a class Car and further derive a class ElectricCar that adds a battery attribute."
   ]
  },
  {
   "cell_type": "code",
   "execution_count": 11,
   "id": "66d78149-7fd6-4377-91b1-a5b25f7d7034",
   "metadata": {},
   "outputs": [
    {
     "name": "stdout",
     "output_type": "stream",
     "text": [
      "Type: Electric, Brand: Tesla, Battery Capacity: 100 kWh\n"
     ]
    }
   ],
   "source": [
    "# Base class\n",
    "class Vehicle:\n",
    "    def __init__(self, type):\n",
    "        self.type = type\n",
    "\n",
    "# Derived class Car\n",
    "class Car(Vehicle):\n",
    "    def __init__(self, type, brand):\n",
    "        super().__init__(type)\n",
    "        self.brand = brand\n",
    "\n",
    "# Further derived class ElectricCar\n",
    "class ElectricCar(Car):\n",
    "    def __init__(self, type, brand, battery_capacity):\n",
    "        super().__init__(type, brand)\n",
    "        self.battery_capacity = battery_capacity\n",
    "\n",
    "# Create an ElectricCar object\n",
    "electric_car = ElectricCar(\"Electric\", \"Tesla\", 100)\n",
    "print(f\"Type: {electric_car.type}, Brand: {electric_car.brand}, Battery Capacity: {electric_car.battery_capacity} kWh\")\n"
   ]
  },
  {
   "cell_type": "markdown",
   "id": "51e9a0c1-a6e1-4217-97c7-ccb074c57cd9",
   "metadata": {},
   "source": [
    "### 6. Demonstrate runtime polymorphism using a method play() in a base class Instrument. Derive classes Guitar and Piano that implement their own version of play()."
   ]
  },
  {
   "cell_type": "code",
   "execution_count": 12,
   "id": "5b6bc39c-0d1b-4a9f-b10a-cf1616f059d0",
   "metadata": {},
   "outputs": [
    {
     "name": "stdout",
     "output_type": "stream",
     "text": [
      "Playing the guitar\n",
      "Playing the piano\n"
     ]
    }
   ],
   "source": [
    "# Base class\n",
    "class Instrument:\n",
    "    def play(self):\n",
    "        print(\"Playing a generic instrument\")\n",
    "\n",
    "# Derived class Guitar\n",
    "class Guitar(Instrument):\n",
    "    def play(self):\n",
    "        print(\"Playing the guitar\")\n",
    "\n",
    "# Derived class Piano\n",
    "class Piano(Instrument):\n",
    "    def play(self):\n",
    "        print(\"Playing the piano\")\n",
    "\n",
    "# Demonstrate runtime polymorphism\n",
    "instruments = [Guitar(), Piano()]\n",
    "for instrument in instruments:\n",
    "    instrument.play()  # Each calls its respective play() method\n"
   ]
  },
  {
   "cell_type": "markdown",
   "id": "c34d4a86-984c-49ec-ad73-344daedb66e8",
   "metadata": {},
   "source": [
    "### 7. Create a class MathOperations with a class method add_numbers() to add two numbers and a static method subtract_numbers() to subtract two numbers."
   ]
  },
  {
   "cell_type": "code",
   "execution_count": 13,
   "id": "5b06219b-cbd9-418b-b651-a3a93897116a",
   "metadata": {},
   "outputs": [
    {
     "name": "stdout",
     "output_type": "stream",
     "text": [
      "Sum: 15\n",
      "Difference: 5\n"
     ]
    }
   ],
   "source": [
    "class MathOperations:\n",
    "    @classmethod\n",
    "    def add_numbers(cls, a, b):\n",
    "        return a + b\n",
    "\n",
    "    @staticmethod\n",
    "    def subtract_numbers(a, b):\n",
    "        return a - b\n",
    "\n",
    "# Usage\n",
    "print(\"Sum:\", MathOperations.add_numbers(10, 5))\n",
    "print(\"Difference:\", MathOperations.subtract_numbers(10, 5))\n"
   ]
  },
  {
   "cell_type": "markdown",
   "id": "301f7764-8df3-4968-9b68-a9ec22d9ad20",
   "metadata": {},
   "source": [
    "### 8. Implement a class Person with a class method to count the total number of persons created."
   ]
  },
  {
   "cell_type": "code",
   "execution_count": 14,
   "id": "ca396173-0ce9-4eff-be22-e0e747135d7c",
   "metadata": {},
   "outputs": [
    {
     "name": "stdout",
     "output_type": "stream",
     "text": [
      "Total Persons: 2\n"
     ]
    }
   ],
   "source": [
    "class Person:\n",
    "    person_count = 0\n",
    "\n",
    "    def __init__(self, name):\n",
    "        self.name = name\n",
    "        Person.person_count += 1\n",
    "\n",
    "    @classmethod\n",
    "    def get_person_count(cls):\n",
    "        return cls.person_count\n",
    "\n",
    "# Create persons\n",
    "person1 = Person(\"Alice\")\n",
    "person2 = Person(\"Bob\")\n",
    "print(f\"Total Persons: {Person.get_person_count()}\")\n"
   ]
  },
  {
   "cell_type": "markdown",
   "id": "f249a725-daec-43c5-9836-d4f06768c06e",
   "metadata": {},
   "source": [
    "### 9. Write a class Fraction with attributes numerator and denominator. Override the __str__ method to display the fraction as \"numerator/denominator\"."
   ]
  },
  {
   "cell_type": "code",
   "execution_count": 15,
   "id": "1ed0461c-b5f0-4927-98ea-072eb61eca56",
   "metadata": {},
   "outputs": [
    {
     "name": "stdout",
     "output_type": "stream",
     "text": [
      "Fraction: 3/4\n"
     ]
    }
   ],
   "source": [
    "class Fraction:\n",
    "    def __init__(self, numerator, denominator):\n",
    "        self.numerator = numerator\n",
    "        self.denominator = denominator\n",
    "\n",
    "    def __str__(self):\n",
    "        return f\"{self.numerator}/{self.denominator}\"\n",
    "\n",
    "# Create a Fraction object\n",
    "fraction = Fraction(3, 4)\n",
    "print(f\"Fraction: {fraction}\")\n"
   ]
  },
  {
   "cell_type": "markdown",
   "id": "41734d06-95f9-45a2-ac5a-15d67924c39e",
   "metadata": {},
   "source": [
    "### 10. Demonstrate operator overloading by creating a class Vector and overriding the __add__ method to add two vectors."
   ]
  },
  {
   "cell_type": "code",
   "execution_count": 16,
   "id": "85da10b4-eea0-4ff7-a80c-e87aad4e7ad5",
   "metadata": {},
   "outputs": [
    {
     "name": "stdout",
     "output_type": "stream",
     "text": [
      "Sum of Vectors: (4, 6)\n"
     ]
    }
   ],
   "source": [
    "class Vector:\n",
    "    def __init__(self, x, y):\n",
    "        self.x = x\n",
    "        self.y = y\n",
    "\n",
    "    def __add__(self, other):\n",
    "        return Vector(self.x + other.x, self.y + other.y)\n",
    "\n",
    "    def __str__(self):\n",
    "        return f\"({self.x}, {self.y})\"\n",
    "\n",
    "# Create two vectors and add them\n",
    "vector1 = Vector(1, 2)\n",
    "vector2 = Vector(3, 4)\n",
    "result = vector1 + vector2\n",
    "print(f\"Sum of Vectors: {result}\")\n"
   ]
  },
  {
   "cell_type": "markdown",
   "id": "4f29b342-6f1d-4eef-aa07-fdabdb11ca47",
   "metadata": {},
   "source": [
    "### 11. Create a class Person with attributes name and age. Add a method greet() that prints \"Hello, my name is {name} and I am {age} years old.\""
   ]
  },
  {
   "cell_type": "code",
   "execution_count": 17,
   "id": "f12c9389-81ed-4f10-9183-4d6727b27760",
   "metadata": {},
   "outputs": [
    {
     "name": "stdout",
     "output_type": "stream",
     "text": [
      "Hello, my name is Alice and I am 30 years old.\n"
     ]
    }
   ],
   "source": [
    "class Person:\n",
    "    def __init__(self, name, age):\n",
    "        self.name = name\n",
    "        self.age = age\n",
    "\n",
    "    def greet(self):\n",
    "        print(f\"Hello, my name is {self.name} and I am {self.age} years old.\")\n",
    "\n",
    "# Create a Person object\n",
    "person = Person(\"Alice\", 30)\n",
    "person.greet()\n"
   ]
  },
  {
   "cell_type": "markdown",
   "id": "b507a6db-4a23-47e8-966e-e6dc18554c5f",
   "metadata": {},
   "source": [
    "### 12. Implement a class Student with attributes name and grades. Create a method average_grade() to compute the average of the grades."
   ]
  },
  {
   "cell_type": "code",
   "execution_count": 18,
   "id": "450bf1fa-c981-4cb0-8475-50b8f58744c9",
   "metadata": {},
   "outputs": [
    {
     "name": "stdout",
     "output_type": "stream",
     "text": [
      "Average Grade: 86.25\n"
     ]
    }
   ],
   "source": [
    "class Student:\n",
    "    def __init__(self, name, grades):\n",
    "        self.name = name\n",
    "        self.grades = grades\n",
    "\n",
    "    def average_grade(self):\n",
    "        return sum(self.grades) / len(self.grades)\n",
    "\n",
    "# Create a Student object\n",
    "student = Student(\"John\", [85, 90, 78, 92])\n",
    "print(f\"Average Grade: {student.average_grade()}\")\n"
   ]
  },
  {
   "cell_type": "markdown",
   "id": "49dd346f-8b36-443a-b851-46df7b8e823c",
   "metadata": {},
   "source": [
    "### 13. Create a class Rectangle with methods set_dimensions() to set the dimensions and area() to calculate the area."
   ]
  },
  {
   "cell_type": "code",
   "execution_count": 19,
   "id": "b7f11ac4-f6a5-4c93-8e60-9481de50952c",
   "metadata": {},
   "outputs": [
    {
     "name": "stdout",
     "output_type": "stream",
     "text": [
      "Area of Rectangle: 15\n"
     ]
    }
   ],
   "source": [
    "class Rectangle:\n",
    "    def __init__(self):\n",
    "        self.width = 0\n",
    "        self.height = 0\n",
    "\n",
    "    def set_dimensions(self, width, height):\n",
    "        self.width = width\n",
    "        self.height = height\n",
    "\n",
    "    def area(self):\n",
    "        return self.width * self.height\n",
    "\n",
    "# Create a Rectangle object\n",
    "rectangle = Rectangle()\n",
    "rectangle.set_dimensions(5, 3)\n",
    "print(f\"Area of Rectangle: {rectangle.area()}\")\n"
   ]
  },
  {
   "cell_type": "markdown",
   "id": "9d3846e1-f296-410c-9a5c-9c308609e9e9",
   "metadata": {},
   "source": [
    "### 14. Create a class Employee with a method calculate_salary() that computes the salary based on hours worked and hourly rate. Create a derived class Manager that adds a bonus to the salary."
   ]
  },
  {
   "cell_type": "code",
   "execution_count": 20,
   "id": "283ded8f-ffce-4d8a-88fd-92171b7f08c2",
   "metadata": {},
   "outputs": [
    {
     "name": "stdout",
     "output_type": "stream",
     "text": [
      "Manager's Salary: $3000\n"
     ]
    }
   ],
   "source": [
    "class Employee:\n",
    "    def __init__(self, hours_worked, hourly_rate):\n",
    "        self.hours_worked = hours_worked\n",
    "        self.hourly_rate = hourly_rate\n",
    "\n",
    "    def calculate_salary(self):\n",
    "        return self.hours_worked * self.hourly_rate\n",
    "\n",
    "class Manager(Employee):\n",
    "    def __init__(self, hours_worked, hourly_rate, bonus):\n",
    "        super().__init__(hours_worked, hourly_rate)\n",
    "        self.bonus = bonus\n",
    "\n",
    "    def calculate_salary(self):\n",
    "        return super().calculate_salary() + self.bonus\n",
    "\n",
    "# Create Manager object\n",
    "manager = Manager(40, 50, 1000)\n",
    "print(f\"Manager's Salary: ${manager.calculate_salary()}\")\n"
   ]
  },
  {
   "cell_type": "markdown",
   "id": "bd264c66-cb96-4c19-8f34-dfd94348a56f",
   "metadata": {},
   "source": [
    "### 15. Create a class Product with attributes name, price, and quantity. Implement a method total_price() that calculates the total price of the product."
   ]
  },
  {
   "cell_type": "code",
   "execution_count": 21,
   "id": "26315818-e411-4545-88e3-a8783cfe5a3e",
   "metadata": {},
   "outputs": [
    {
     "name": "stdout",
     "output_type": "stream",
     "text": [
      "Total Price of Laptop: $3000\n"
     ]
    }
   ],
   "source": [
    "class Product:\n",
    "    def __init__(self, name, price, quantity):\n",
    "        self.name = name\n",
    "        self.price = price\n",
    "        self.quantity = quantity\n",
    "\n",
    "    def total_price(self):\n",
    "        return self.price * self.quantity\n",
    "\n",
    "# Create a Product object\n",
    "product = Product(\"Laptop\", 1000, 3)\n",
    "print(f\"Total Price of {product.name}: ${product.total_price()}\")\n"
   ]
  },
  {
   "cell_type": "markdown",
   "id": "da8ab57d-4f8e-4530-a17d-725b5b49d40b",
   "metadata": {},
   "source": [
    "### 16. Create a class Animal with an abstract method sound(). Create two derived classes Cow and Sheep that implement the sound() method."
   ]
  },
  {
   "cell_type": "code",
   "execution_count": 22,
   "id": "4cf7908b-4ec1-4b72-80ec-a071a83005db",
   "metadata": {},
   "outputs": [
    {
     "name": "stdout",
     "output_type": "stream",
     "text": [
      "Moo\n",
      "Baa\n"
     ]
    }
   ],
   "source": [
    "from abc import ABC, abstractmethod\n",
    "\n",
    "# Abstract class Animal\n",
    "class Animal(ABC):\n",
    "    @abstractmethod\n",
    "    def sound(self):\n",
    "        pass\n",
    "\n",
    "# Derived class Cow\n",
    "class Cow(Animal):\n",
    "    def sound(self):\n",
    "        print(\"Moo\")\n",
    "\n",
    "# Derived class Sheep\n",
    "class Sheep(Animal):\n",
    "    def sound(self):\n",
    "        print(\"Baa\")\n",
    "\n",
    "# Create objects and demonstrate the sound method\n",
    "cow = Cow()\n",
    "sheep = Sheep()\n",
    "\n",
    "cow.sound()  # Output: Moo\n",
    "sheep.sound()  # Output: Baa\n"
   ]
  },
  {
   "cell_type": "markdown",
   "id": "9027a9de-e093-41a7-a3f6-9b06bf0029d6",
   "metadata": {},
   "source": [
    "### 17. Create a class Book with attributes title, author, and year_published. Add a method get_book_info() that returns a formatted string with the book's details."
   ]
  },
  {
   "cell_type": "code",
   "execution_count": 23,
   "id": "14b509bb-f197-49df-b06c-720ef763d811",
   "metadata": {},
   "outputs": [
    {
     "name": "stdout",
     "output_type": "stream",
     "text": [
      "Title: To Kill a Mockingbird, Author: Harper Lee, Year Published: 1960\n"
     ]
    }
   ],
   "source": [
    "class Book:\n",
    "    def __init__(self, title, author, year_published):\n",
    "        self.title = title\n",
    "        self.author = author\n",
    "        self.year_published = year_published\n",
    "\n",
    "    def get_book_info(self):\n",
    "        return f\"Title: {self.title}, Author: {self.author}, Year Published: {self.year_published}\"\n",
    "\n",
    "# Create a Book object\n",
    "book = Book(\"To Kill a Mockingbird\", \"Harper Lee\", 1960)\n",
    "print(book.get_book_info())\n"
   ]
  },
  {
   "cell_type": "markdown",
   "id": "1972dd46-c7fd-4a1c-a5d4-5f61db8fbfee",
   "metadata": {},
   "source": [
    "### 18. Create a class House with attributes address and price. Create a derived class Mansion that adds an attribute number_of_rooms."
   ]
  },
  {
   "cell_type": "code",
   "execution_count": 24,
   "id": "b7d94724-e3e8-4b36-9974-73a975632d9c",
   "metadata": {},
   "outputs": [
    {
     "name": "stdout",
     "output_type": "stream",
     "text": [
      "Mansion Address: 123 Luxury Ave, Price: $5000000, Rooms: 20\n"
     ]
    }
   ],
   "source": [
    "# Base class House\n",
    "class House:\n",
    "    def __init__(self, address, price):\n",
    "        self.address = address\n",
    "        self.price = price\n",
    "\n",
    "# Derived class Mansion\n",
    "class Mansion(House):\n",
    "    def __init__(self, address, price, number_of_rooms):\n",
    "        super().__init__(address, price)\n",
    "        self.number_of_rooms = number_of_rooms\n",
    "\n",
    "# Create a Mansion object\n",
    "mansion = Mansion(\"123 Luxury Ave\", 5000000, 20)\n",
    "print(f\"Mansion Address: {mansion.address}, Price: ${mansion.price}, Rooms: {mansion.number_of_rooms}\")\n"
   ]
  },
  {
   "cell_type": "code",
   "execution_count": null,
   "id": "ca6439a4-b6a1-493d-a13e-1a6261a8e514",
   "metadata": {},
   "outputs": [],
   "source": []
  }
 ],
 "metadata": {
  "kernelspec": {
   "display_name": "Python 3 (ipykernel)",
   "language": "python",
   "name": "python3"
  },
  "language_info": {
   "codemirror_mode": {
    "name": "ipython",
    "version": 3
   },
   "file_extension": ".py",
   "mimetype": "text/x-python",
   "name": "python",
   "nbconvert_exporter": "python",
   "pygments_lexer": "ipython3",
   "version": "3.13.0"
  }
 },
 "nbformat": 4,
 "nbformat_minor": 5
}
